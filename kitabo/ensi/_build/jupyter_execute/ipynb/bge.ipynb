{
 "cells": [
  {
   "cell_type": "markdown",
   "metadata": {},
   "source": [
    "(bge)=\n",
    "# Beyond\n",
    "\n",
    "> *From the point of view of form, the `arche`type of all the arts is the art of the musician - Oscar Wilde*  \n",
    "\n",
    "          1. f(t)\n",
    "                \\\n",
    "     2. S(t) -> 4. y:h'(t)=0;t(X'X)X'Y -> 5. b -> 6. SV'\n",
    "                /\n",
    "                3. h(t)\n",
    "\n",
    "## Allegory\n",
    "\n",
    "### Inherited fetters, $\\mu$ (text)\n",
    "- $f(t)$ _Challenges_. Life including parts unknown in the tails (entire harmonic series)\n",
    "- $S(t)$ _Skills_. **Charity** of our forbears & our duty to others (ii-V7-i contain entire series here)\n",
    "- $h(t)$ _Tools_. Build tension like a damn builds reservoir; so that you’ll have energy to overflow: `well-trodden paths` & modes -qualities create context for surprises, tension, release\n",
    "\n",
    "### Dancing in chains, $\\sigma$ (context)\n",
    "- $(X’X)^T \\cdot X’Y$ _Agency_. **Hope** in you as dragon-slaying hero, with tension in the bow, whose cup runneth over, and can shoot for distant goals \n",
    "\n",
    "### Born to etiquette , $\\%$ (pretext)\n",
    "- $\\beta$ _Flow_. And overflow of parameters, tools, leverage STEAM\n",
    "- $SV’$ _Undiminishing_. **Faith** that marginal utility from modal-quality-relative interchange will grow endlessly . GRIP\n",
    "\n",
    "\n"
   ]
  }
 ],
 "metadata": {
  "kernelspec": {
   "display_name": "Python 3",
   "language": "python",
   "name": "python3"
  },
  "language_info": {
   "codemirror_mode": {
    "name": "ipython",
    "version": 3
   },
   "file_extension": ".py",
   "mimetype": "text/x-python",
   "name": "python",
   "nbconvert_exporter": "python",
   "pygments_lexer": "ipython3",
   "version": "3.12.4"
  },
  "widgets": {
   "application/vnd.jupyter.widget-state+json": {
    "state": {},
    "version_major": 2,
    "version_minor": 0
   }
  }
 },
 "nbformat": 4,
 "nbformat_minor": 4
}