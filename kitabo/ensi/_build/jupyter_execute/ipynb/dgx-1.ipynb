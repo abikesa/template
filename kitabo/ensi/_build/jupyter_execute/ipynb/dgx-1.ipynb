{
 "cells": [
  {
   "cell_type": "markdown",
   "metadata": {},
   "source": [
    "(dgx-1)=\n",
    "# DGX-1\n",
    "\n",
    "![](https://s.yimg.com/ny/api/res/1.2/8L3HD._iXd63zf5jXcGvnQ--/YXBwaWQ9aGlnaGxhbmRlcjt3PTk2MDtoPTcwOA--/https://media.zenfs.com/en/fortune_175/1976a579f5f312520665e46ab7005ee9)\n",
    "\n",
    "```{figure} ../figures/blanche.png\n",
    "---\n",
    "height: 1\n",
    "width: 1\n",
    "---\n",
    "_The DX-7 of AI_. Musk and Huang have a friendly relationship. During an interview at the same New York Times conference, Musk referred to Huang as “awesome.”\n",
    "```\n",
    "\n",
    "The [DX-7](https://finance.yahoo.com/news/jensen-huang-elon-musk-openai-182851783.html) of AI\n",
    "\n",
    "\n"
   ]
  }
 ],
 "metadata": {
  "kernelspec": {
   "display_name": "Python 3",
   "language": "python",
   "name": "python3"
  },
  "language_info": {
   "codemirror_mode": {
    "name": "ipython",
    "version": 3
   },
   "file_extension": ".py",
   "mimetype": "text/x-python",
   "name": "python",
   "nbconvert_exporter": "python",
   "pygments_lexer": "ipython3",
   "version": "3.12.4"
  },
  "widgets": {
   "application/vnd.jupyter.widget-state+json": {
    "state": {},
    "version_major": 2,
    "version_minor": 0
   }
  }
 },
 "nbformat": 4,
 "nbformat_minor": 4
}