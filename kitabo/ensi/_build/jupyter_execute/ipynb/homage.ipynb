{
 "cells": [
  {
   "cell_type": "markdown",
   "metadata": {},
   "source": [
    "(homage)=\n",
    "# Homage\n",
    "\n",
    "> *From the point of view of form, the `arche`type of all the arts is the art of the musician - Oscar Wilde*  \n",
    "\n",
    "          1. f(t)\n",
    "                \\\n",
    "     2. S(t) -> 4. y:h'(t)=0;t(X'X)X'Y -> 5. b -> 6. SV'\n",
    "                /\n",
    "                3. h(t)\n",
    "\n",
    "## Allegory\n",
    "\n",
    "### Inherited fetters, $\\mu$ (text)\n",
    "- $f(t)$ _Challenges_. Life including parts unknown in the tails (entire harmonic series) will throw things at you without any prejudice, as if `randomly` from a probability density function\n",
    "- $S(t)$ _Skills_. **Charity** of our forbears & our duty to others (ii-V7-i contain entire series here). Our cumulative heritage hands us an approach out of the spirit of music: what we are handed `displaces` us from the root to `ii`. And our forbears offer a step-wise, tried & tasted, well-trodden journey \"back\" home: `ii-V7-i`\n",
    "- $h(t)$ _Tools_. No quick home-cuming or path of least resistance. Rather, an obstacle-course that tests your strength, resilience, and build your muscle, bone, stamina, as well as emotional tension: your libido and drive is now like a dammed river, which builds a reservoir for future energy needs. Modes-qualities-relatives are the tools that create context for future surprises, tension, release\n",
    "\n",
    "### Dancing in chains, $\\sigma$ (context)\n",
    "- $(X’X)^T \\cdot X’Y$ _Agency_. **Hope** is placed in you by the agent-less masses. They understand that with all the tension in the bow that you've accrued, your banks run over; your cup runneth over; you can help them shoot for distant goals \n",
    "\n",
    "### Born to etiquette , $\\%$ (pretext)\n",
    "- $\\beta$ _Flow_. With an overflow of parameters and tools, they'll be able to leverage STEAM\n",
    "- $SV’$ _Undiminishing_. **Faith** that marginal utility from modal-quality-relative interchange will grow endlessly . GRIP\n",
    "\n",
    "\n"
   ]
  },
  {
   "cell_type": "markdown",
   "metadata": {},
   "source": [
    "   - *Genealogy of morality*\n",
    "   - *Tunakoberaku gha nga mwenewo nali neinhira ku matama*\n",
    "   - *Awononeire ekiwulu*   \n",
    "   - *Do not kill the messenger*\n",
    "   - *Endovu bakivuma obutako engezirawo*\n",
    "      - *European claims to originality couldn't be challenged by Africans since they were far more powerful*"
   ]
  }
 ],
 "metadata": {
  "kernelspec": {
   "display_name": "Python 3",
   "language": "python",
   "name": "python3"
  },
  "language_info": {
   "codemirror_mode": {
    "name": "ipython",
    "version": 3
   },
   "file_extension": ".py",
   "mimetype": "text/x-python",
   "name": "python",
   "nbconvert_exporter": "python",
   "pygments_lexer": "ipython3",
   "version": "3.12.4"
  },
  "widgets": {
   "application/vnd.jupyter.widget-state+json": {
    "state": {},
    "version_major": 2,
    "version_minor": 0
   }
  }
 },
 "nbformat": 4,
 "nbformat_minor": 4
}