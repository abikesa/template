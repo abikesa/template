{
 "cells": [
  {
   "cell_type": "markdown",
   "metadata": {},
   "source": [
    "(tony)=\n",
    "# Tony\n",
    "\n",
    "> *Like all good performances, it's about timing, tone, and delivery -- like cooking*  \n",
    "\n",
    "          1. f(t)\n",
    "                \\\n",
    "     2. S(t) -> 4. y:h'(t)=0;t(X'X)X'Y -> 5. b -> 6. SV'\n",
    "                /\n",
    "                3. h(t)\n",
    "\n",
    "## Allegory\n",
    "\n",
    "### `ii`: $\\mu$ Timing\n",
    "- White picket-fence, 2nd marriage (inferno)\n",
    "- Then burned down life as known for 40y\n",
    "- Depart-meaning\n",
    "\n",
    "### `V7`: $\\sigma$ Qualities\n",
    "- Becamee television personality, 3rd relationship (purgatorio). Struggle-junkie\n",
    "\n",
    "### `i`: $\\%$ Delivery\n",
    "- Imbalance between nihilism & creativity (paradiso)\n",
    "- Return-charity\n",
    "\n",
    "\n",
    "\n"
   ]
  }
 ],
 "metadata": {
  "kernelspec": {
   "display_name": "Python 3",
   "language": "python",
   "name": "python3"
  },
  "language_info": {
   "codemirror_mode": {
    "name": "ipython",
    "version": 3
   },
   "file_extension": ".py",
   "mimetype": "text/x-python",
   "name": "python",
   "nbconvert_exporter": "python",
   "pygments_lexer": "ipython3",
   "version": "3.12.4"
  },
  "widgets": {
   "application/vnd.jupyter.widget-state+json": {
    "state": {},
    "version_major": 2,
    "version_minor": 0
   }
  }
 },
 "nbformat": 4,
 "nbformat_minor": 4
}